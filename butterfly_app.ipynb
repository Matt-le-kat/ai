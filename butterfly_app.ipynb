{
  "nbformat": 4,
  "nbformat_minor": 0,
  "metadata": {
    "colab": {
      "name": "butterfly_app.ipynb",
      "provenance": [],
      "collapsed_sections": []
    },
    "kernelspec": {
      "name": "python3",
      "display_name": "Python 3"
    }
  },
  "cells": [
    {
      "cell_type": "markdown",
      "metadata": {
        "id": "acDi2p2IqeyL",
        "colab_type": "text"
      },
      "source": [
        "#**Butterfly Classifier!!**\n",
        "Click on upload then classify below to classify your butterfly!"
      ]
    }
  ]
}